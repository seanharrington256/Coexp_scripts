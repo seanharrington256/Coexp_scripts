{
 "cells": [
  {
   "cell_type": "markdown",
   "id": "ef2f029e",
   "metadata": {},
   "source": [
    "# Notebook for running stairwayplot2 on eastern snake data\n",
    "\n",
    "This is modified from a notebook for the same purpose from Dr. Arianna Kuhn"
   ]
  },
  {
   "cell_type": "code",
   "execution_count": 1,
   "id": "53986969",
   "metadata": {},
   "outputs": [
    {
     "name": "stdout",
     "output_type": "stream",
     "text": [
      "# conda environments:\n",
      "#\n",
      "base                     /Users/harrington/opt/miniconda3\n",
      "bioinfo                  /Users/harrington/opt/miniconda3/envs/bioinfo\n",
      "easySFS               *  /Users/harrington/opt/miniconda3/envs/easySFS\n",
      "entropy                  /Users/harrington/opt/miniconda3/envs/entropy\n",
      "fastqc                   /Users/harrington/opt/miniconda3/envs/fastqc\n",
      "macs2                    /Users/harrington/opt/miniconda3/envs/macs2\n",
      "py-popgen                /Users/harrington/opt/miniconda3/envs/py-popgen\n",
      "qiime2-2022.2            /Users/harrington/opt/miniconda3/envs/qiime2-2022.2\n",
      "splitfasta               /Users/harrington/opt/miniconda3/envs/splitfasta\n",
      "\n",
      "usage: easySFS.py [-h] [-a] -i VCF_NAME -p POPULATIONS [--proj PROJECTIONS]\n",
      "                  [--preview] [-o OUTDIR] [--ploidy PLOIDY] [--prefix PREFIX]\n",
      "                  [--unfolded] [--order POP_ORDER] [--dtype DTYPE]\n",
      "                  [--GQ GQUAL] [-f] [-v]\n",
      "\n",
      "optional arguments:\n",
      "  -h, --help          show this help message and exit\n",
      "  -a                  Keep all snps within each RAD locus (ie. do _not_\n",
      "                      randomly sample 1 snp per locus).\n",
      "  -i VCF_NAME         name of the VCF input file being converted\n",
      "  -p POPULATIONS      Input file containing population assignments per\n",
      "                      individual\n",
      "  --proj PROJECTIONS  List of values for projecting populations down to\n",
      "                      different sample sizes\n",
      "  --preview           Preview the number of segragating sites per population\n",
      "                      for different projection values.\n",
      "  -o OUTDIR           Directory to write output SFS to\n",
      "  --ploidy PLOIDY     Specify ploidy. Default is 2. Only other option is 1 for\n",
      "                      haploid.\n",
      "  --prefix PREFIX     Prefix for all output SFS files names.\n",
      "  --unfolded          Generate unfolded SFS. This assumes that your vcf file\n",
      "                      is accurately polarized.\n",
      "  --order POP_ORDER   Specify the order of populations for the generated sfs.\n",
      "                      Values for --proj should be in this order as well.\n",
      "  --dtype DTYPE       Data type for use in output sfs. Options are `int` and\n",
      "                      `float`. Default is `float`.\n",
      "  --GQ GQUAL          minimum genotype quality tolerated\n",
      "  -f                  Force overwriting directories and existing files.\n",
      "  -v                  Set verbosity. Dump tons of info to the screen\n",
      "\n",
      "    \n"
     ]
    }
   ],
   "source": [
    "# import some stuff\n",
    "import glob\n",
    "import ipyparallel as ipp\n",
    "import os\n",
    "import subprocess\n",
    "\n",
    "# For this to work, dadi must be installed\n",
    "# I run this from my easySFS conda environment - has dadi installed - check the current environment\n",
    "!conda env list\n",
    "\n",
    "easySFS = \"/Users/harrington/Active_Research/Ecotone_genomics/GBS_Data/FSC/easySFS/easySFS.py\"\n",
    "# run easySFS and test that it is installed & spits out the options\n",
    "!$easySFS -h"
   ]
  },
  {
   "cell_type": "code",
   "execution_count": 2,
   "id": "ab1dc535",
   "metadata": {},
   "outputs": [
    {
     "data": {
      "text/plain": [
       "['Acontortrix_p123_v2_25miss_popAcontortrix',\n",
       " 'Acontortrix_p123_v2_25miss_popeast',\n",
       " 'Acontortrix_p123_v2_25miss_popwest',\n",
       " 'Dpunctatus_p123_v3_25missEAST_popcentral',\n",
       " 'Dpunctatus_p123_v3_25missEAST_popnorth',\n",
       " 'Dpunctatus_p123_v3_25missEAST_popsouth',\n",
       " 'Lgetula_p123_v4_25miss_popcent',\n",
       " 'Lgetula_p123_v4_25miss_popeast',\n",
       " 'Lgetula_p123_v4_25miss_popholb',\n",
       " 'Mflagellum_p123_v3_25missEast_popMflagellum',\n",
       " 'Pguttatus_p123_v2_25miss_popemor',\n",
       " 'Pguttatus_p123_v2_25miss_popgut',\n",
       " 'Sdekayi_p123_v4_25miss_popSdekayi',\n",
       " 'abacura_only_popeast',\n",
       " 'abacura_only_popwest',\n",
       " 'erytro_poperytro',\n",
       " 'milks_denovo-92_popelap',\n",
       " 'milks_denovo-92_popgent',\n",
       " 'milks_denovo-92_poptri']"
      ]
     },
     "execution_count": 2,
     "metadata": {},
     "output_type": "execute_result"
    }
   ],
   "source": [
    "# Set up some directories\n",
    "analysis_dir = \"/Users/harrington/Active_Research/Ecotone_genomics/GBS_Data/stairwayplot2/analysis/\"\n",
    "pops_dir = \"/Users/harrington/Active_Research/Ecotone_genomics/GBS_Data/Coexp_dryad/stairwayplot2/pop_files/\"\n",
    "vcf_dir = \"/Users/harrington/Active_Research/Ecotone_genomics/GBS_Data/Coexp_dryad/stairwayplot2/filtered_vcf/\"\n",
    "\n",
    "# Populations files for each pop were made with the \"make_pops_SFS_stairway.R\" script\n",
    "all_pops = glob.glob(pops_dir + \"*\")\n",
    "all_pops = sorted([x.split(\"/\")[-1].rsplit(\".\", 1)[0] for x in all_pops])\n",
    "\n",
    "all_pops"
   ]
  },
  {
   "cell_type": "code",
   "execution_count": 3,
   "id": "85ad928a",
   "metadata": {},
   "outputs": [
    {
     "name": "stdout",
     "output_type": "stream",
     "text": [
      "/Users/harrington/Active_Research/Ecotone_genomics/GBS_Data/Coexp_dryad/stairwayplot2/filtered_vcf/Sdekayi_p123_v4_25miss_popSdekayi.vcf\n",
      "/Users/harrington/Active_Research/Ecotone_genomics/GBS_Data/Coexp_dryad/stairwayplot2/pop_files/Sdekayi_p123_v4_25miss_popSdekayi.txt\n",
      "Processing 1 populations - odict_keys(['Sdekayi'])\n",
      "\n",
      "    Running preview mode. We will print out the results for # of segregating sites\n",
      "    for multiple values of projecting down for each population. The dadi\n",
      "    manual recommends maximizing the # of seg sites for projections, but also\n",
      "    a balance must be struck between # of seg sites and sample size.\n",
      "\n",
      "    For each population you should choose the value of the projection that looks\n",
      "    best and then rerun easySFS with the `--proj` flag.\n",
      "    \n",
      "Sdekayi\n",
      "(2, 4317)\t(3, 6423)\t(4, 8135)\t(5, 9606)\t(6, 10965)\t(7, 12201)\t(8, 13383)\t(9, 14463)\t(10, 15530)\t(11, 16532)\t(12, 17518)\t(13, 18456)\t(14, 19379)\t(15, 20259)\t(16, 21131)\t(17, 21974)\t(18, 22805)\t(19, 23608)\t(20, 24402)\t(21, 25165)\t(22, 25928)\t(23, 26672)\t(24, 27408)\t(25, 28116)\t(26, 28828)\t(27, 29515)\t(28, 30204)\t(29, 30862)\t(30, 31530)\t(31, 32165)\t(32, 32815)\t(33, 33419)\t(34, 34052)\t(35, 34596)\t(36, 35212)\t(37, 35580)\t(38, 36179)\t(39, 35986)\t(40, 36565)\t(41, 34211)\t(42, 34749)\t(43, 20747)\t(44, 21061)\t(45, 11567)\t(46, 11735)\t(47, 5476)\t(48, 5553)\t(49, 2056)\t(50, 2083)\t(51, 526)\t(52, 532)\t(53, 80)\t(54, 81)\t\n",
      "\n",
      "\n"
     ]
    }
   ],
   "source": [
    "## prototype the easySFS preview call for one population\n",
    "pop = \"Sdekayi_p123_v4_25miss_popSdekayi\" # define the population\n",
    "in_vcf = vcf_dir + pop + \".vcf\" # define the vcf file location\n",
    "pop_file = pops_dir + pop + \".txt\" # define the population file location\n",
    "print(in_vcf)\n",
    "print(pop_file)\n",
    "\n",
    "!$easySFS -i \"$in_vcf\" -p \"$pop_file\" -a --preview # run easySFS preview"
   ]
  },
  {
   "cell_type": "code",
   "execution_count": 4,
   "id": "e58dc72d",
   "metadata": {},
   "outputs": [
    {
     "name": "stdout",
     "output_type": "stream",
     "text": [
      "Acontortrix_p123_v2_25miss_popeast\n",
      "Acontortrix_p123_v2_25miss_popwest\n"
     ]
    }
   ],
   "source": [
    "# Get easySFS preview results for all populations\n",
    "preview_dict = {}\n",
    "for pop in all_pops:\n",
    "    print(pop)\n",
    "    in_vcf = vcf_dir + pop + \".vcf\"\n",
    "    pop_file = pops_dir + pop + \".txt\"\n",
    "    preview_dict[pop] = !$easySFS -i \"$in_vcf\" -p \"$pop_file\" -a --preview"
   ]
  },
  {
   "cell_type": "code",
   "execution_count": 5,
   "id": "3146b84c",
   "metadata": {},
   "outputs": [
    {
     "name": "stdout",
     "output_type": "stream",
     "text": [
      "Acontortrix_p123_v2_25miss_popeast \n",
      " (2, 6383)\t(3, 9563)\t(4, 12085)\t(5, 14242)\t(6, 16230)\t(7, 18040)\t(8, 19803)\t(9, 21454)\t(10, 23092)\t(11, 24646)\t(12, 26203)\t(13, 27684)\t(14, 29185)\t(15, 30600)\t(16, 32057)\t(17, 33395)\t(18, 34818)\t(19, 36013)\t(20, 37404)\t(21, 38045)\t(22, 39398)\t(23, 38546)\t(24, 39819)\t(25, 35349)\t(26, 36444)\t(27, 27544)\t(28, 28345)\t(29, 17105)\t(30, 17573)\t(31, 8103)\t(32, 8310)\t(33, 2298)\t(34, 2353)\t \n",
      "\n",
      "Acontortrix_p123_v2_25miss_popwest \n",
      " (2, 5758)\t(3, 8609)\t(4, 10916)\t(5, 12902)\t(6, 14757)\t(7, 16463)\t(8, 18125)\t(9, 19679)\t(10, 21232)\t(11, 22717)\t(12, 24197)\t(13, 25588)\t(14, 27016)\t(15, 28268)\t(16, 29651)\t(17, 30649)\t(18, 31990)\t(19, 31849)\t(20, 33115)\t(21, 30269)\t(22, 31377)\t(23, 23992)\t(24, 24805)\t(25, 14585)\t(26, 15044)\t(27, 6250)\t(28, 6434)\t(29, 1499)\t(30, 1540)\t \n",
      "\n"
     ]
    }
   ],
   "source": [
    "# Show the easySFS preview results for all pops\n",
    "for k, v in preview_dict.items():\n",
    "    print(k, \"\\n\", v[-3], \"\\n\")"
   ]
  },
  {
   "cell_type": "code",
   "execution_count": 6,
   "id": "62c5b9f7",
   "metadata": {},
   "outputs": [],
   "source": [
    "# Set projection level for each population. Have to choose the proj level\n",
    "# based on the sampling.....\n",
    "# For stairwayplot 14 or more samples give nice looking output sfs plots - but don't always have this level of sampling\n",
    "\n",
    "proj_dict = {}\n",
    "proj_dict[\"Acontortrix_p123_v2_25miss_popAcontortrix\"] = 46\n",
    "\n",
    "proj_dict[\"Acontortrix_p123_v2_25miss_popeast\"] = 24\n",
    "proj_dict[\"Acontortrix_p123_v2_25miss_popwest\"] = 22\n",
    "\n",
    "proj_dict[\"Dpunctatus_p123_v3_25missEAST_popcentral\"] = 28\n",
    "proj_dict[\"Dpunctatus_p123_v3_25missEAST_popnorth\"] = 22\n",
    "proj_dict[\"Dpunctatus_p123_v3_25missEAST_popsouth\"] = 6\n",
    "proj_dict[\"Lgetula_p123_v4_25miss_popeast\"] = 6\n",
    "proj_dict[\"Lgetula_p123_v4_25miss_popholb\"] = 30\n",
    "proj_dict[\"Lgetula_p123_v4_25miss_popcent\"] = 14\n",
    "proj_dict[\"Mflagellum_p123_v3_25missEast_popMflagellum\"] = 14\n",
    "proj_dict[\"Pguttatus_p123_v2_25miss_popemor\"] = 30\n",
    "proj_dict[\"Pguttatus_p123_v2_25miss_popgut\"] = 24\n",
    "proj_dict['Sdekayi_p123_v4_25miss_popSdekayi'] = 40\n",
    "proj_dict[\"abacura_only_popeast\"] = 44\n",
    "proj_dict[\"abacura_only_popwest\"] = 20\n",
    "proj_dict[\"erytro_poperytro\"] = 23\n",
    "proj_dict[\"milks_denovo-92_popelap\"] = 42\n",
    "proj_dict[\"milks_denovo-92_poptri\"] = 50\n",
    "proj_dict[\"milks_denovo-92_popgent\"] = 42\n",
    "\n",
    "\n",
    "\n"
   ]
  },
  {
   "cell_type": "code",
   "execution_count": null,
   "id": "3bce58d7",
   "metadata": {},
   "outputs": [],
   "source": [
    "## prototype the easySFS proj call for one population\n",
    "pop = \"Sdekayi_p123_v4_25miss_popSdekayi\"\n",
    "pop_analysis_dir = analysis_dir + pop + \"/sfs\"\n",
    "in_vcf = vcf_dir + \"{pop}.vcf\".format(pop=pop)\n",
    "pop_file = pops_dir + \"{}.txt\".format(pop)\n",
    "if not os.path.exists(pop_analysis_dir):\n",
    "    os.makedirs(pop_analysis_dir)\n",
    "    \n",
    "!$easySFS -i \"$in_vcf\" -p \"$pop_file\" -a --proj 46 -o \"$pop_analysis_dir\" -f"
   ]
  },
  {
   "cell_type": "code",
   "execution_count": 7,
   "id": "12669087",
   "metadata": {},
   "outputs": [
    {
     "name": "stdout",
     "output_type": "stream",
     "text": [
      "Acontortrix_p123_v2_25miss_popeast\n",
      "Processing 1 populations - odict_keys(['east'])\n",
      "Doing 1D sfs - east\n",
      "Doing multiSFS for all pops\n",
      "Acontortrix_p123_v2_25miss_popwest\n",
      "Processing 1 populations - odict_keys(['west'])\n",
      "Doing 1D sfs - west\n",
      "Doing multiSFS for all pops\n"
     ]
    }
   ],
   "source": [
    "# Get easySFS proj results for all populations\n",
    "preview_dict = {}\n",
    "for pop in all_pops:\n",
    "    print(pop)\n",
    "    in_vcf = vcf_dir + \"{pop}.vcf\".format(pop=pop)\n",
    "    pop_file = pops_dir + \"{}.txt\".format(pop)\n",
    "    pop_analysis_dir = analysis_dir + pop + \"/sfs\"\n",
    "    if not os.path.exists(pop_analysis_dir):\n",
    "        os.makedirs(pop_analysis_dir)\n",
    "    proj = proj_dict[pop]\n",
    "    !$easySFS -i \"$in_vcf\" -p \"$pop_file\" -a --proj $proj -o \"$pop_analysis_dir\" -f"
   ]
  },
  {
   "cell_type": "markdown",
   "id": "12922a28",
   "metadata": {},
   "source": [
    "### make blueprint files for each population\n",
    "\n",
    "here, using same rates as I did in the C. ruber paper, plus generation time of 3 years:\n",
    "\n",
    "2.2*10-9 / year\n",
    "\n",
    "assume generation time of 3 years\n",
    "\n",
    "->> 6.6e-9 per generation\n",
    "   "
   ]
  },
  {
   "cell_type": "code",
   "execution_count": 8,
   "id": "3230eb27",
   "metadata": {},
   "outputs": [],
   "source": [
    "blueprint_template = \"\"\"#example blueprint file\n",
    "#input setting\n",
    "popid: {pop} # id of the population (no white space)\n",
    "nseq: {nseqs} # number of sequences\n",
    "L: {seq_length} # total number of observed nucleic sites, including polymorphic and monomorphic\n",
    "whether_folded: true # whethr the SFS is folded (true or false)\n",
    "SFS: {sfs} # snp frequency spectrum: number of singleton, number of doubleton, etc. (separated by white space)\n",
    "#smallest_size_of_SFS_bin_used_for_estimation: 1 # default is 1; to ignore singletons, uncomment this line and change this number to 2\n",
    "#largest_size_of_SFS_bin_used_for_estimation: 15 # default is nseq/2 for folded SFS\n",
    "pct_training: 0.67 # percentage of sites for training\n",
    "nrand: 7 15 22 28 # number of random break points for each try (separated by white space)\n",
    "project_dir: '/Users/harrington/Active_Research/Ecotone_genomics/GBS_Data/stairwayplot2/analysis/{pop}/{nseqs}_samples' # project directory\n",
    "stairway_plot_dir: /Applications/stairway_plot_v2.1.1/stairway_plot_es # directory to the stairway plot files\n",
    "ninput: 200 # number of input files to be created for each estimation\n",
    "#random_seed: 666\n",
    "#output setting\n",
    "mu: 6.6e-9 # assumed mutation rate per site per generation\n",
    "year_per_generation: 3 # assumed generation time (in years)\n",
    "#plot setting\n",
    "plot_title: {pop} # title of the plot\n",
    "xrange: 0.1,10000 # Time (1k year) range; format: xmin,xmax; \"0,0\" for default\n",
    "yrange: 0,0 # Ne (1k individual) range; format: xmin,xmax; \"0,0\" for default\n",
    "xspacing: 2 # X axis spacing\n",
    "yspacing: 2 # Y axis spacing\n",
    "fontsize: 12 # Font size\"\"\""
   ]
  },
  {
   "cell_type": "code",
   "execution_count": null,
   "id": "2cd0be91",
   "metadata": {},
   "outputs": [],
   "source": [
    "stairwayplot_es_dir = \"/Applications/stairway_plot_v2.1.1/stairway_plot_es\"\n",
    "\n",
    "# prototype for one population\n",
    "pop = \"Sdekayi_p123_v4_25miss_popSdekayi\"\n",
    "# get the number of samples retained in the projection\n",
    "nsamps = proj_dict[pop] \n",
    "# get the full sequence length from the stats file\n",
    "in_stats = vcf_dir + pop.rsplit(\"_\", 1)[0] + \"_stats.txt\"\n",
    "seq_length = open(in_stats).readlines()[-1].split(\",\")[1].strip().split(\")\")[0]\n",
    "\n",
    "\n",
    "# get the folded sfs\n",
    "pop_sfs = analysis_dir + pop + \"/sfs/dadi/\" + pop.split(\"_pop\", 1)[1] + \".sfs\".format(pop=pop)\n",
    "pop_sfs = open(pop_sfs).readlines()[1].split()[1:int(nsamps/2)+1]\n",
    "\n",
    "# Write the blueprint file\n",
    "blueprint_file = analysis_dir + \"{pop}/{pop}.blueprint\".format(pop=pop)\n",
    "with open(blueprint_file, 'w') as outfile:\n",
    "    outfile.write(blueprint_template.format(pop=pop, nseqs=nsamps, seq_length=seq_length, sfs=\" \".join(pop_sfs)))\n",
    "\n",
    "# This call creates $blueprint_file.sh which gets run\n",
    "!java -cp $stairwayplot_es_dir Stairbuilder \"$blueprint_file\"\n",
    "stairwayplot2_script = blueprint_file + \".sh\"\n",
    "!bash \"$stairwayplot2_script\""
   ]
  },
  {
   "cell_type": "code",
   "execution_count": 9,
   "id": "fdf634dc",
   "metadata": {},
   "outputs": [
    {
     "name": "stdout",
     "output_type": "stream",
     "text": [
      "Acontortrix_p123_v2_25miss_popeast\n",
      "Acontortrix_p123_v2_25miss_popwest\n"
     ]
    }
   ],
   "source": [
    "## do them all in a serial fashion, dumb but easy\n",
    "\n",
    "for pop in all_pops:\n",
    "    print(pop)\n",
    "    stairwayplot_es_dir = \"/Applications/stairway_plot_v2.1.1/stairway_plot_es\"\n",
    "    # Get the number of samples retained in the projection\n",
    "    nsamps = proj_dict[pop]\n",
    "    # get the full sequence length from the stats file\n",
    "    in_stats = vcf_dir + pop.rsplit(\"_\", 1)[0] + \"_stats.txt\"\n",
    "    seq_length = open(in_stats).readlines()[-1].split(\",\")[1].strip().split(\")\")[0]\n",
    "\n",
    "    # get the folded sfs\n",
    "    pop_sfs = analysis_dir + pop + \"/sfs/dadi/\" + pop.split(\"_pop\", 1)[1] + \".sfs\".format(pop=pop)\n",
    "    pop_sfs = open(pop_sfs).readlines()[1].split()[1:int(nsamps/2)+1]\n",
    "\n",
    "    # Write the blueprint file\n",
    "    blueprint_file = analysis_dir + \"{pop}/{pop}.blueprint\".format(pop=pop)\n",
    "    with open(blueprint_file, 'w') as outfile:\n",
    "        outfile.write(blueprint_template.format(pop=pop, nseqs=nsamps, seq_length=seq_length, sfs=\" \".join(pop_sfs)))\n",
    "    \n",
    "    # This call creates $blueprint_file.sh which gets run\n",
    "    _ = !java -cp $stairwayplot_es_dir Stairbuilder \"$blueprint_file\"\n",
    "    stairwayplot2_script = blueprint_file + \".sh\"\n",
    "    _ = !bash \"$stairwayplot2_script\""
   ]
  },
  {
   "cell_type": "code",
   "execution_count": null,
   "id": "0b0a04fe",
   "metadata": {},
   "outputs": [],
   "source": []
  }
 ],
 "metadata": {
  "kernelspec": {
   "display_name": "Python 3",
   "language": "python",
   "name": "python3"
  },
  "language_info": {
   "codemirror_mode": {
    "name": "ipython",
    "version": 3
   },
   "file_extension": ".py",
   "mimetype": "text/x-python",
   "name": "python",
   "nbconvert_exporter": "python",
   "pygments_lexer": "ipython3",
   "version": "3.7.10"
  }
 },
 "nbformat": 4,
 "nbformat_minor": 5
}
